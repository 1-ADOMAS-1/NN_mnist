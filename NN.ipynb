{
  "nbformat": 4,
  "nbformat_minor": 0,
  "metadata": {
    "colab": {
      "provenance": []
    },
    "kernelspec": {
      "name": "python3",
      "display_name": "Python 3"
    },
    "language_info": {
      "name": "python"
    }
  },
  "cells": [
    {
      "cell_type": "markdown",
      "source": [
        "# Start\n",
        "**import libraries**"
      ],
      "metadata": {
        "id": "eeZ7OdhSiBRv"
      }
    },
    {
      "cell_type": "code",
      "source": [
        "import torch\n",
        "\n",
        "import numpy as np\n",
        "\n",
        "import matplotlib.pyplot as plt"
      ],
      "metadata": {
        "id": "ZNHh533sb5i4"
      },
      "execution_count": 28,
      "outputs": []
    },
    {
      "cell_type": "markdown",
      "source": [
        "**During initialization, it is common to create the layers of a neural network.**\n",
        "\n",
        "\n",
        "The forward method is used for forward propagation in a neural network."
      ],
      "metadata": {
        "id": "NTO4DDkIxDZE"
      }
    },
    {
      "cell_type": "code",
      "source": [
        "import torch.nn as nn"
      ],
      "metadata": {
        "id": "BC8w_-J8y0Az"
      },
      "execution_count": 29,
      "outputs": []
    },
    {
      "cell_type": "code",
      "execution_count": 30,
      "metadata": {
        "id": "HOiNkJA3pHQF"
      },
      "outputs": [],
      "source": [
        "class ourFirstNetwork(nn.Module):\n",
        "  def __init__(self):\n",
        "    super(ourFirstNetwork, self).__init__()\n",
        "    self.fc1 = nn.Linear(100,10)\n",
        "    self.fc1_act = nn.ReLU()\n",
        "\n",
        "  def forward(self, x):\n",
        "    y = self.fc1_act(self.fc1(x))\n",
        "    return y"
      ]
    },
    {
      "cell_type": "code",
      "source": [
        "a = torch.rand(100)\n",
        "model =  ourFirstNetwork()\n",
        "model(a)"
      ],
      "metadata": {
        "id": "fpBVSw62yxoI",
        "colab": {
          "base_uri": "https://localhost:8080/"
        },
        "outputId": "244a4bfc-0b1a-4dcb-fe37-3ab849823aa6"
      },
      "execution_count": 31,
      "outputs": [
        {
          "output_type": "execute_result",
          "data": {
            "text/plain": [
              "tensor([0.1333, 0.1882, 0.0000, 0.0000, 0.0000, 0.0000, 0.0000, 0.0000, 0.2696,\n",
              "        0.0000], grad_fn=<ReluBackward0>)"
            ]
          },
          "metadata": {},
          "execution_count": 31
        }
      ]
    },
    {
      "cell_type": "markdown",
      "source": [
        "# Torchvision\n",
        "\n",
        "**load MNIST**\n",
        "*   torchvision is a Package for easy access to datasets And architectures And common image transformations\n",
        "*   Next up is working with MNIST.\n",
        "\n",
        "\n"
      ],
      "metadata": {
        "id": "Q-C-C3b-cp65"
      }
    },
    {
      "cell_type": "code",
      "source": [
        "import torchvision\n",
        "\n",
        "train_MNIST = torchvision.datasets.MNIST('data_mnist/train', train=True, transform=None, download=True)\n",
        "test_MNIST = torchvision.datasets.MNIST('data_mnist/test', train=False, transform=None, download=True)\n",
        "\n",
        "print(train_MNIST[0])\n",
        "\n",
        "pexels = np.asarray(train_MNIST[0][0])\n",
        "plt.imshow(pexels)"
      ],
      "metadata": {
        "colab": {
          "base_uri": "https://localhost:8080/",
          "height": 465
        },
        "id": "_aSEy338cutJ",
        "outputId": "6ee77985-c6c5-4b4f-f1fe-ca2b8db08400"
      },
      "execution_count": 32,
      "outputs": [
        {
          "output_type": "stream",
          "name": "stdout",
          "text": [
            "(<PIL.Image.Image image mode=L size=28x28 at 0x7C75EF8CA410>, 5)\n"
          ]
        },
        {
          "output_type": "execute_result",
          "data": {
            "text/plain": [
              "<matplotlib.image.AxesImage at 0x7c75ed883910>"
            ]
          },
          "metadata": {},
          "execution_count": 32
        },
        {
          "output_type": "display_data",
          "data": {
            "text/plain": [
              "<Figure size 640x480 with 1 Axes>"
            ],
            "image/png": "[encoded data removed]"
          },
          "metadata": {}
        }
      ]
    },
    {
      "cell_type": "markdown",
      "source": [
        "**We have data, but how can we use them for training?**\n",
        "\n",
        "In PyTorch, there is a class  *DataLoader*  specifically designed for iterating over a dataset during model training"
      ],
      "metadata": {
        "id": "DB4WDhS8j_n8"
      }
    },
    {
      "cell_type": "code",
      "source": [
        "import torchvision.transforms as transforms\n",
        "import torchvision.utils"
      ],
      "metadata": {
        "id": "x3OUjkVXktKw"
      },
      "execution_count": 33,
      "outputs": []
    },
    {
      "cell_type": "code",
      "source": [
        "train_MNIST_ten = torchvision.datasets.MNIST('data_mnist/train', train=True,\n",
        "                                             transform=transforms.Compose([transforms.ToTensor()]),\n",
        "                                             download=True)\n",
        "test_MNIST_ten = torchvision.datasets.MNIST('data_mnist/test', train=False,\n",
        "                                            transform=transforms.Compose([transforms.ToTensor()]),\n",
        "                                            download=True)\n",
        "\n",
        "print(train_MNIST[0], end='\\n')\n",
        "\n",
        "pexels = np.asarray(train_MNIST[0][0])\n",
        "plt.imshow(pexels)"
      ],
      "metadata": {
        "colab": {
          "base_uri": "https://localhost:8080/",
          "height": 465
        },
        "id": "58nFhc_2lBXL",
        "outputId": "6e6e8fdf-b867-449a-e3b9-d4a736c02f46"
      },
      "execution_count": 34,
      "outputs": [
        {
          "output_type": "stream",
          "name": "stdout",
          "text": [
            "(<PIL.Image.Image image mode=L size=28x28 at 0x7C75ED5AE410>, 5)\n"
          ]
        },
        {
          "output_type": "execute_result",
          "data": {
            "text/plain": [
              "<matplotlib.image.AxesImage at 0x7c75ed5f7a90>"
            ]
          },
          "metadata": {},
          "execution_count": 34
        },
        {
          "output_type": "display_data",
          "data": {
            "text/plain": [
              "<Figure size 640x480 with 1 Axes>"
            ],
            "image/png": "[encoded data removed]"
          },
          "metadata": {}
        }
      ]
    },
    {
      "cell_type": "markdown",
      "source": [
        "The next step is to create an iterator for traversing through the dataset."
      ],
      "metadata": {
        "id": "Cw1AFquSlwFe"
      }
    },
    {
      "cell_type": "code",
      "source": [
        "batch_size = 100\n",
        "\n",
        "train_loader = torch.utils.data.DataLoader(\n",
        "    dataset=train_MNIST_ten,\n",
        "    batch_size=batch_size,\n",
        "    shuffle=True\n",
        ")\n",
        "\n",
        "test_loader = torch.utils.data.DataLoader(\n",
        "    dataset=test_MNIST_ten,\n",
        "    batch_size=batch_size,\n",
        "    shuffle=False\n",
        ")"
      ],
      "metadata": {
        "id": "AYZai0TGl1fl"
      },
      "execution_count": 53,
      "outputs": []
    },
    {
      "cell_type": "code",
      "source": [
        "img, label = test_MNIST[0]\n",
        "label"
      ],
      "metadata": {
        "colab": {
          "base_uri": "https://localhost:8080/"
        },
        "id": "DMxJNTEjvXDu",
        "outputId": "6aeac622-74a9-403a-f5f1-675e26b09cff"
      },
      "execution_count": 36,
      "outputs": [
        {
          "output_type": "execute_result",
          "data": {
            "text/plain": [
              "7"
            ]
          },
          "metadata": {},
          "execution_count": 36
        }
      ]
    },
    {
      "cell_type": "code",
      "source": [
        "imeges, classes = next(iter(train_loader))\n",
        "classes"
      ],
      "metadata": {
        "colab": {
          "base_uri": "https://localhost:8080/"
        },
        "id": "XCcCvUOrvfZc",
        "outputId": "46681145-8ead-406b-8340-1c90974d8dc7"
      },
      "execution_count": 37,
      "outputs": [
        {
          "output_type": "execute_result",
          "data": {
            "text/plain": [
              "tensor([8, 1, 0, 5, 2, 1, 1, 8, 1, 6, 1, 3, 3, 2, 9, 5, 6, 7, 2, 4, 8, 3, 5, 3,\n",
              "        2, 7, 3, 5, 2, 6, 9, 4, 4, 2, 2, 9, 2, 9, 0, 3, 0, 5, 4, 7, 6, 6, 1, 3,\n",
              "        0, 5, 7, 2, 9, 8, 5, 6, 5, 8, 8, 2, 6, 1, 3, 7, 2, 4, 8, 2, 0, 1, 3, 1,\n",
              "        6, 5, 4, 1, 1, 9, 0, 8, 3, 1, 7, 8, 7, 6, 3, 5, 1, 6, 0, 3, 0, 1, 9, 2,\n",
              "        9, 8, 2, 3])"
            ]
          },
          "metadata": {},
          "execution_count": 37
        }
      ]
    },
    {
      "cell_type": "code",
      "source": [
        "len(train_loader)"
      ],
      "metadata": {
        "colab": {
          "base_uri": "https://localhost:8080/"
        },
        "id": "m4bwkBei1-tn",
        "outputId": "31deff17-a6cb-48b0-fa01-6fe5befe092b"
      },
      "execution_count": 54,
      "outputs": [
        {
          "output_type": "execute_result",
          "data": {
            "text/plain": [
              "600"
            ]
          },
          "metadata": {},
          "execution_count": 54
        }
      ]
    },
    {
      "cell_type": "markdown",
      "source": [
        "# Dropout"
      ],
      "metadata": {
        "id": "WGChTXCC0ok2"
      }
    },
    {
      "cell_type": "code",
      "source": [
        "model.train()\n",
        "model.eval()"
      ],
      "metadata": {
        "colab": {
          "base_uri": "https://localhost:8080/"
        },
        "id": "g-MUVTe71YLd",
        "outputId": "03342b2f-b0e4-435c-b55c-944fe2a3086f"
      },
      "execution_count": 38,
      "outputs": [
        {
          "output_type": "execute_result",
          "data": {
            "text/plain": [
              "ourFirstNetwork(\n",
              "  (fc1): Linear(in_features=100, out_features=10, bias=True)\n",
              "  (fc1_act): ReLU()\n",
              ")"
            ]
          },
          "metadata": {},
          "execution_count": 38
        }
      ]
    },
    {
      "cell_type": "code",
      "source": [
        "class ourSecondNetwork(nn.Module):\n",
        "  def __init__(self, zero_prop):\n",
        "    super(ourSecondNetwork, self).__init__()\n",
        "    self.fc1 = nn.Linear(28*28,100)\n",
        "    self.fc2 = nn.Linear(100,10)\n",
        "    self.fc1_act = nn.ReLU()\n",
        "    self.dropout = nn.Dropout(p=zero_prop)\n",
        "\n",
        "  def forward(self, x):\n",
        "    y = self.fc1(x)\n",
        "    y = self.fc1_act(y)\n",
        "    y = self.fc2(y)\n",
        "    return y"
      ],
      "metadata": {
        "id": "k9VcE4d83kbO"
      },
      "execution_count": 39,
      "outputs": []
    },
    {
      "cell_type": "code",
      "source": [
        "device = torch.device('cuda' if torch.cuda.is_available() else 'cpu')\n",
        "device"
      ],
      "metadata": {
        "colab": {
          "base_uri": "https://localhost:8080/"
        },
        "id": "e2dk9WZW3pif",
        "outputId": "74fb572e-9d99-4ec9-ee71-08b14213b450"
      },
      "execution_count": 40,
      "outputs": [
        {
          "output_type": "execute_result",
          "data": {
            "text/plain": [
              "device(type='cpu')"
            ]
          },
          "metadata": {},
          "execution_count": 40
        }
      ]
    },
    {
      "cell_type": "code",
      "source": [
        "model = ourSecondNetwork(0.2)"
      ],
      "metadata": {
        "id": "6aDFrTR6FJNf"
      },
      "execution_count": 41,
      "outputs": []
    },
    {
      "cell_type": "code",
      "source": [
        "import time\n",
        "import os\n",
        "\n",
        "model.train()\n",
        "model.to(device)\n",
        "\n",
        "loss_func = nn.CrossEntropyLoss()\n",
        "optimizer = torch.optim.Adam(model.parameters(), lr=1e-4)\n",
        "\n",
        "def accuracy(output, labels):\n",
        "  predictions = torch.argmax(output, dim=1)\n",
        "  correct = (predictions == labels).sum().cpu().numpy()\n",
        "  return correct/len(labels)\n",
        "\n",
        "start_time = time.time()\n",
        "\n",
        "maxacc = 0\n",
        "for epoch in range(5):\n",
        "\n",
        "  model.train()\n",
        "  for itr, data in enumerate(train_loader):\n",
        "\n",
        "    imgs = data[0].to(device)\n",
        "    labels = data[1].to(device)\n",
        "\n",
        "    imgs = imgs.view(-1, 28*28)\n",
        "\n",
        "    y_pred = model(imgs)\n",
        "    loss = loss_func(y_pred, labels)\n",
        "    if itr % 100 == 0:\n",
        "      print(\"iteration {}, train acc {:.2f}, loss {:.04f}\".format(itr+epoch*len(train_loader),\n",
        "                                                                  accuracy(y_pred, labels),\n",
        "                                                                  loss))\n",
        "\n",
        "    optimizer.zero_grad()\n",
        "    loss.backward()\n",
        "    optimizer.step()\n",
        "\n",
        "  model.eval()\n",
        "\n",
        "  accuracies = []\n",
        "  for itr, data in enumerate(test_loader):\n",
        "    imgs = data[0].to(device)\n",
        "    labels = data[1].to(device)\n",
        "    imgs = imgs.view(-1, 28*28)\n",
        "    y_pred = model(imgs)\n",
        "    accuracies.append(accuracy(y_pred, labels))\n",
        "  print(f'test acc: {np.mean(np.array(accuracies)):.5f}')\n",
        "\n",
        "  if np.mean(np.array(accuracies)) > maxacc:\n",
        "    print('saving model because its better')\n",
        "    maxacc = np.mean(np.array(accuracies))\n",
        "    torch.save(model, f'mymodel.pth')\n",
        "\n",
        "print(\"Total time {:.4f} seconds\".format(time.time() - start_time))"
      ],
      "metadata": {
        "colab": {
          "base_uri": "https://localhost:8080/"
        },
        "id": "lLf4scNP6siP",
        "outputId": "fcc3ba1b-92c5-4ea6-dddd-2ed3f0541f87"
      },
      "execution_count": 42,
      "outputs": [
        {
          "output_type": "stream",
          "name": "stdout",
          "text": [
            "iteration 0, train acc 0.08, loss 2.3186\n",
            "iteration 100, train acc 0.64, loss 1.8136\n",
            "iteration 200, train acc 0.76, loss 1.3727\n",
            "iteration 300, train acc 0.83, loss 0.9179\n",
            "iteration 400, train acc 0.80, loss 0.7942\n",
            "iteration 500, train acc 0.92, loss 0.6314\n",
            "test acc: 0.87980\n",
            "saving model because its better\n",
            "iteration 600, train acc 0.89, loss 0.5158\n",
            "iteration 700, train acc 0.88, loss 0.5680\n",
            "iteration 800, train acc 0.87, loss 0.4951\n",
            "iteration 900, train acc 0.91, loss 0.4049\n",
            "iteration 1000, train acc 0.89, loss 0.4156\n",
            "iteration 1100, train acc 0.92, loss 0.3036\n",
            "test acc: 0.90480\n",
            "saving model because its better\n",
            "iteration 1200, train acc 0.83, loss 0.5081\n",
            "iteration 1300, train acc 0.89, loss 0.4078\n",
            "iteration 1400, train acc 0.92, loss 0.2676\n",
            "iteration 1500, train acc 0.89, loss 0.3249\n",
            "iteration 1600, train acc 0.87, loss 0.3885\n",
            "iteration 1700, train acc 0.86, loss 0.3658\n",
            "test acc: 0.91270\n",
            "saving model because its better\n",
            "iteration 1800, train acc 0.91, loss 0.3251\n",
            "iteration 1900, train acc 0.92, loss 0.3516\n",
            "iteration 2000, train acc 0.94, loss 0.2546\n",
            "iteration 2100, train acc 0.91, loss 0.3288\n",
            "iteration 2200, train acc 0.91, loss 0.2588\n",
            "iteration 2300, train acc 0.89, loss 0.4778\n",
            "test acc: 0.91830\n",
            "saving model because its better\n",
            "iteration 2400, train acc 0.86, loss 0.3921\n",
            "iteration 2500, train acc 0.94, loss 0.2209\n",
            "iteration 2600, train acc 0.94, loss 0.2301\n",
            "iteration 2700, train acc 0.88, loss 0.3308\n",
            "iteration 2800, train acc 0.94, loss 0.2218\n",
            "iteration 2900, train acc 0.89, loss 0.3704\n",
            "test acc: 0.92260\n",
            "saving model because its better\n",
            "Total time 35.6754 seconds\n"
          ]
        }
      ]
    },
    {
      "cell_type": "markdown",
      "source": [
        "# loading the weights of a saved model"
      ],
      "metadata": {
        "id": "Heu8MkKvzD0i"
      }
    },
    {
      "cell_type": "code",
      "source": [
        "wghts = torch.load('mymodel.pth', weights_only=False)\n",
        "model.load_state_dict(wghts.state_dict())"
      ],
      "metadata": {
        "colab": {
          "base_uri": "https://localhost:8080/"
        },
        "id": "HDlCHCH47vA2",
        "outputId": "50e5ce2c-6383-4e29-8858-2a9e26148c5f"
      },
      "execution_count": 50,
      "outputs": [
        {
          "output_type": "execute_result",
          "data": {
            "text/plain": [
              "<All keys matched successfully>"
            ]
          },
          "metadata": {},
          "execution_count": 50
        }
      ]
    },
    {
      "cell_type": "markdown",
      "source": [
        "# check on a test sample 2"
      ],
      "metadata": {
        "id": "XihCPGwK0yt9"
      }
    },
    {
      "cell_type": "code",
      "source": [
        "model.eval()\n",
        "\n",
        "with torch.no_grad():\n",
        "  acc = []\n",
        "  for itr, data in enumerate(test_loader):\n",
        "    imgs = data[0].to(device)\n",
        "    labels = data[1].to(device)\n",
        "    imgs = imgs.view(-1, 28*28)\n",
        "\n",
        "    y_pred = model.forward(imgs)\n",
        "    acc.append(accuracy(y_pred, labels))\n",
        "print(f'test acc: {(sum(acc)/len(acc)):.2f}')"
      ],
      "metadata": {
        "colab": {
          "base_uri": "https://localhost:8080/"
        },
        "id": "JDG0G97_z68W",
        "outputId": "50ff50d6-6bcf-40d2-8b97-d1ddfebba23e"
      },
      "execution_count": 56,
      "outputs": [
        {
          "output_type": "stream",
          "name": "stdout",
          "text": [
            "test acc: 0.92\n"
          ]
        }
      ]
    }
  ]
}